{
 "cells": [
  {
   "cell_type": "markdown",
   "metadata": {
    "colab_type": "text",
    "id": "V8-yl-s-WKMG"
   },
   "source": [
    "# Object Detection Demo\n",
    "Welcome to the object detection inference walkthrough!  This notebook will walk you step by step through the process of using a pre-trained model to detect objects in an image. Make sure to follow the [installation instructions](https://github.com/tensorflow/models/blob/master/research/object_detection/g3doc/installation.md) before you start."
   ]
  },
  {
   "cell_type": "markdown",
   "metadata": {
    "colab_type": "text",
    "id": "kFSqkTCdWKMI"
   },
   "source": [
    "# Imports"
   ]
  },
  {
   "cell_type": "code",
   "execution_count": 1,
   "metadata": {
    "colab": {
     "autoexec": {
      "startup": false,
      "wait_interval": 0.0
     }
    },
    "colab_type": "code",
    "id": "hV4P5gyTWKMI"
   },
   "outputs": [],
   "source": [
    "from distutils.version import StrictVersion\n",
    "import numpy as np\n",
    "import os\n",
    "import six.moves.urllib as urllib\n",
    "import sys\n",
    "import tarfile\n",
    "import tensorflow as tf\n",
    "import zipfile\n",
    "\n",
    "from collections import defaultdict\n",
    "from io import StringIO\n",
    "from matplotlib import pyplot as plt\n",
    "from PIL import Image\n",
    "\n",
    "# This is needed since the notebook is stored in the object_detection folder.\n",
    "sys.path.append(\"..\")\n",
    "from object_detection.utils import ops as utils_ops\n",
    "\n",
    "if StrictVersion(tf.__version__) < StrictVersion('1.9.0'):\n",
    "  raise ImportError('Please upgrade your TensorFlow installation to v1.9.* or later!')\n"
   ]
  },
  {
   "cell_type": "markdown",
   "metadata": {
    "colab_type": "text",
    "id": "Wy72mWwAWKMK"
   },
   "source": [
    "## Env setup"
   ]
  },
  {
   "cell_type": "code",
   "execution_count": 2,
   "metadata": {
    "colab": {
     "autoexec": {
      "startup": false,
      "wait_interval": 0.0
     }
    },
    "colab_type": "code",
    "id": "v7m_NY_aWKMK"
   },
   "outputs": [],
   "source": [
    "# This is needed to display the images.\n",
    "%matplotlib inline"
   ]
  },
  {
   "cell_type": "markdown",
   "metadata": {
    "colab_type": "text",
    "id": "r5FNuiRPWKMN"
   },
   "source": [
    "## Object detection imports\n",
    "Here are the imports from the object detection module."
   ]
  },
  {
   "cell_type": "code",
   "execution_count": 3,
   "metadata": {
    "colab": {
     "autoexec": {
      "startup": false,
      "wait_interval": 0.0
     }
    },
    "colab_type": "code",
    "id": "bm0_uNRnWKMN"
   },
   "outputs": [
    {
     "name": "stderr",
     "output_type": "stream",
     "text": [
      "C:\\mgr\\tensor\\models\\research\\object_detection\\utils\\visualization_utils.py:25: UserWarning: \n",
      "This call to matplotlib.use() has no effect because the backend has already\n",
      "been chosen; matplotlib.use() must be called *before* pylab, matplotlib.pyplot,\n",
      "or matplotlib.backends is imported for the first time.\n",
      "\n",
      "The backend was *originally* set to 'module://ipykernel.pylab.backend_inline' by the following code:\n",
      "  File \"c:\\users\\daniel żukowski\\appdata\\local\\programs\\python\\python36\\lib\\runpy.py\", line 193, in _run_module_as_main\n",
      "    \"__main__\", mod_spec)\n",
      "  File \"c:\\users\\daniel żukowski\\appdata\\local\\programs\\python\\python36\\lib\\runpy.py\", line 85, in _run_code\n",
      "    exec(code, run_globals)\n",
      "  File \"c:\\users\\daniel żukowski\\appdata\\local\\programs\\python\\python36\\lib\\site-packages\\ipykernel_launcher.py\", line 16, in <module>\n",
      "    app.launch_new_instance()\n",
      "  File \"c:\\users\\daniel żukowski\\appdata\\local\\programs\\python\\python36\\lib\\site-packages\\traitlets\\config\\application.py\", line 658, in launch_instance\n",
      "    app.start()\n",
      "  File \"c:\\users\\daniel żukowski\\appdata\\local\\programs\\python\\python36\\lib\\site-packages\\ipykernel\\kernelapp.py\", line 486, in start\n",
      "    self.io_loop.start()\n",
      "  File \"c:\\users\\daniel żukowski\\appdata\\local\\programs\\python\\python36\\lib\\site-packages\\tornado\\platform\\asyncio.py\", line 132, in start\n",
      "    self.asyncio_loop.run_forever()\n",
      "  File \"c:\\users\\daniel żukowski\\appdata\\local\\programs\\python\\python36\\lib\\asyncio\\base_events.py\", line 422, in run_forever\n",
      "    self._run_once()\n",
      "  File \"c:\\users\\daniel żukowski\\appdata\\local\\programs\\python\\python36\\lib\\asyncio\\base_events.py\", line 1434, in _run_once\n",
      "    handle._run()\n",
      "  File \"c:\\users\\daniel żukowski\\appdata\\local\\programs\\python\\python36\\lib\\asyncio\\events.py\", line 145, in _run\n",
      "    self._callback(*self._args)\n",
      "  File \"c:\\users\\daniel żukowski\\appdata\\local\\programs\\python\\python36\\lib\\site-packages\\tornado\\ioloop.py\", line 758, in _run_callback\n",
      "    ret = callback()\n",
      "  File \"c:\\users\\daniel żukowski\\appdata\\local\\programs\\python\\python36\\lib\\site-packages\\tornado\\stack_context.py\", line 300, in null_wrapper\n",
      "    return fn(*args, **kwargs)\n",
      "  File \"c:\\users\\daniel żukowski\\appdata\\local\\programs\\python\\python36\\lib\\site-packages\\zmq\\eventloop\\zmqstream.py\", line 536, in <lambda>\n",
      "    self.io_loop.add_callback(lambda : self._handle_events(self.socket, 0))\n",
      "  File \"c:\\users\\daniel żukowski\\appdata\\local\\programs\\python\\python36\\lib\\site-packages\\zmq\\eventloop\\zmqstream.py\", line 450, in _handle_events\n",
      "    self._handle_recv()\n",
      "  File \"c:\\users\\daniel żukowski\\appdata\\local\\programs\\python\\python36\\lib\\site-packages\\zmq\\eventloop\\zmqstream.py\", line 480, in _handle_recv\n",
      "    self._run_callback(callback, msg)\n",
      "  File \"c:\\users\\daniel żukowski\\appdata\\local\\programs\\python\\python36\\lib\\site-packages\\zmq\\eventloop\\zmqstream.py\", line 432, in _run_callback\n",
      "    callback(*args, **kwargs)\n",
      "  File \"c:\\users\\daniel żukowski\\appdata\\local\\programs\\python\\python36\\lib\\site-packages\\tornado\\stack_context.py\", line 300, in null_wrapper\n",
      "    return fn(*args, **kwargs)\n",
      "  File \"c:\\users\\daniel żukowski\\appdata\\local\\programs\\python\\python36\\lib\\site-packages\\ipykernel\\kernelbase.py\", line 283, in dispatcher\n",
      "    return self.dispatch_shell(stream, msg)\n",
      "  File \"c:\\users\\daniel żukowski\\appdata\\local\\programs\\python\\python36\\lib\\site-packages\\ipykernel\\kernelbase.py\", line 233, in dispatch_shell\n",
      "    handler(stream, idents, msg)\n",
      "  File \"c:\\users\\daniel żukowski\\appdata\\local\\programs\\python\\python36\\lib\\site-packages\\ipykernel\\kernelbase.py\", line 399, in execute_request\n",
      "    user_expressions, allow_stdin)\n",
      "  File \"c:\\users\\daniel żukowski\\appdata\\local\\programs\\python\\python36\\lib\\site-packages\\ipykernel\\ipkernel.py\", line 208, in do_execute\n",
      "    res = shell.run_cell(code, store_history=store_history, silent=silent)\n",
      "  File \"c:\\users\\daniel żukowski\\appdata\\local\\programs\\python\\python36\\lib\\site-packages\\ipykernel\\zmqshell.py\", line 537, in run_cell\n",
      "    return super(ZMQInteractiveShell, self).run_cell(*args, **kwargs)\n",
      "  File \"c:\\users\\daniel żukowski\\appdata\\local\\programs\\python\\python36\\lib\\site-packages\\IPython\\core\\interactiveshell.py\", line 2662, in run_cell\n",
      "    raw_cell, store_history, silent, shell_futures)\n",
      "  File \"c:\\users\\daniel żukowski\\appdata\\local\\programs\\python\\python36\\lib\\site-packages\\IPython\\core\\interactiveshell.py\", line 2785, in _run_cell\n",
      "    interactivity=interactivity, compiler=compiler, result=result)\n",
      "  File \"c:\\users\\daniel żukowski\\appdata\\local\\programs\\python\\python36\\lib\\site-packages\\IPython\\core\\interactiveshell.py\", line 2909, in run_ast_nodes\n",
      "    if self.run_code(code, result):\n",
      "  File \"c:\\users\\daniel żukowski\\appdata\\local\\programs\\python\\python36\\lib\\site-packages\\IPython\\core\\interactiveshell.py\", line 2963, in run_code\n",
      "    exec(code_obj, self.user_global_ns, self.user_ns)\n",
      "  File \"<ipython-input-2-0f0a85121700>\", line 2, in <module>\n",
      "    get_ipython().run_line_magic('matplotlib', 'inline')\n",
      "  File \"c:\\users\\daniel żukowski\\appdata\\local\\programs\\python\\python36\\lib\\site-packages\\IPython\\core\\interactiveshell.py\", line 2131, in run_line_magic\n",
      "    result = fn(*args,**kwargs)\n",
      "  File \"<decorator-gen-108>\", line 2, in matplotlib\n",
      "  File \"c:\\users\\daniel żukowski\\appdata\\local\\programs\\python\\python36\\lib\\site-packages\\IPython\\core\\magic.py\", line 187, in <lambda>\n",
      "    call = lambda f, *a, **k: f(*a, **k)\n",
      "  File \"c:\\users\\daniel żukowski\\appdata\\local\\programs\\python\\python36\\lib\\site-packages\\IPython\\core\\magics\\pylab.py\", line 99, in matplotlib\n",
      "    gui, backend = self.shell.enable_matplotlib(args.gui)\n",
      "  File \"c:\\users\\daniel żukowski\\appdata\\local\\programs\\python\\python36\\lib\\site-packages\\IPython\\core\\interactiveshell.py\", line 3051, in enable_matplotlib\n",
      "    pt.activate_matplotlib(backend)\n",
      "  File \"c:\\users\\daniel żukowski\\appdata\\local\\programs\\python\\python36\\lib\\site-packages\\IPython\\core\\pylabtools.py\", line 311, in activate_matplotlib\n",
      "    matplotlib.pyplot.switch_backend(backend)\n",
      "  File \"c:\\users\\daniel żukowski\\appdata\\local\\programs\\python\\python36\\lib\\site-packages\\matplotlib\\pyplot.py\", line 231, in switch_backend\n",
      "    matplotlib.use(newbackend, warn=False, force=True)\n",
      "  File \"c:\\users\\daniel żukowski\\appdata\\local\\programs\\python\\python36\\lib\\site-packages\\matplotlib\\__init__.py\", line 1410, in use\n",
      "    reload(sys.modules['matplotlib.backends'])\n",
      "  File \"c:\\users\\daniel żukowski\\appdata\\local\\programs\\python\\python36\\lib\\importlib\\__init__.py\", line 166, in reload\n",
      "    _bootstrap._exec(spec, module)\n",
      "  File \"c:\\users\\daniel żukowski\\appdata\\local\\programs\\python\\python36\\lib\\site-packages\\matplotlib\\backends\\__init__.py\", line 16, in <module>\n",
      "    line for line in traceback.format_stack()\n",
      "\n",
      "\n",
      "  import matplotlib; matplotlib.use('Agg')  # pylint: disable=multiple-statements\n"
     ]
    }
   ],
   "source": [
    "from utils import label_map_util\n",
    "\n",
    "from utils import visualization_utils as vis_util"
   ]
  },
  {
   "cell_type": "markdown",
   "metadata": {
    "colab_type": "text",
    "id": "cfn_tRFOWKMO"
   },
   "source": [
    "# Model preparation "
   ]
  },
  {
   "cell_type": "markdown",
   "metadata": {
    "colab_type": "text",
    "id": "X_sEBLpVWKMQ"
   },
   "source": [
    "## Variables\n",
    "\n",
    "Any model exported using the `export_inference_graph.py` tool can be loaded here simply by changing `PATH_TO_FROZEN_GRAPH` to point to a new .pb file.  \n",
    "\n",
    "By default we use an \"SSD with Mobilenet\" model here. See the [detection model zoo](https://github.com/tensorflow/models/blob/master/research/object_detection/g3doc/detection_model_zoo.md) for a list of other models that can be run out-of-the-box with varying speeds and accuracies."
   ]
  },
  {
   "cell_type": "code",
   "execution_count": 4,
   "metadata": {
    "colab": {
     "autoexec": {
      "startup": false,
      "wait_interval": 0.0
     }
    },
    "colab_type": "code",
    "id": "VyPz_t8WWKMQ"
   },
   "outputs": [],
   "source": [
    "# What model to download.\n",
    "#MODEL_NAME = 'ssd_mobilenet_v1_coco_2017_11_17'\n",
    "# MODEL_FILE = MODEL_NAME + '.tar.gz'\n",
    "# DOWNLOAD_BASE = 'http://download.tensorflow.org/models/object_detection/'\n",
    "\n",
    "# Path to frozen detection graph. This is the actual model that is used for the object detection.\n",
    "# PATH_TO_FROZEN_GRAPH = MODEL_NAME + '/frozen_inference_graph.pb'\n",
    "PATH_TO_FROZEN_GRAPH = 'C://mgr//mgr_kask//grafy_wytrenowane//output_inference_graph_rcnn.pb//frozen_inference_graph.pb'\n",
    "\n",
    "# List of the strings that is used to add correct label for each box.\n",
    "PATH_TO_LABELS = 'C://mgr//mgr_kask//grafy_wytrenowane//object-detection.pbtxt'\n",
    "\n",
    "NUM_CLASSES = 1"
   ]
  },
  {
   "cell_type": "markdown",
   "metadata": {
    "colab_type": "text",
    "id": "7ai8pLZZWKMS"
   },
   "source": [
    "## Download Model"
   ]
  },
  {
   "cell_type": "code",
   "execution_count": 5,
   "metadata": {
    "colab": {
     "autoexec": {
      "startup": false,
      "wait_interval": 0.0
     }
    },
    "colab_type": "code",
    "id": "KILYnwR5WKMS"
   },
   "outputs": [],
   "source": [
    "# opener = urllib.request.URLopener()\n",
    "# opener.retrieve(DOWNLOAD_BASE + MODEL_FILE, MODEL_FILE)\n",
    "# tar_file = tarfile.open(MODEL_FILE)\n",
    "# for file in tar_file.getmembers():\n",
    "#   file_name = os.path.basename(file.name)\n",
    "#   if 'frozen_inference_graph.pb' in file_name:\n",
    "#     tar_file.extract(file, os.getcwd())"
   ]
  },
  {
   "cell_type": "markdown",
   "metadata": {
    "colab_type": "text",
    "id": "YBcB9QHLWKMU"
   },
   "source": [
    "## Load a (frozen) Tensorflow model into memory."
   ]
  },
  {
   "cell_type": "code",
   "execution_count": 6,
   "metadata": {
    "colab": {
     "autoexec": {
      "startup": false,
      "wait_interval": 0.0
     }
    },
    "colab_type": "code",
    "id": "KezjCRVvWKMV"
   },
   "outputs": [],
   "source": [
    "detection_graph = tf.Graph()\n",
    "with detection_graph.as_default():\n",
    "  od_graph_def = tf.GraphDef()\n",
    "  with tf.gfile.GFile(PATH_TO_FROZEN_GRAPH, 'rb') as fid:\n",
    "    serialized_graph = fid.read()\n",
    "    od_graph_def.ParseFromString(serialized_graph)\n",
    "    tf.import_graph_def(od_graph_def, name='')"
   ]
  },
  {
   "cell_type": "markdown",
   "metadata": {
    "colab_type": "text",
    "id": "_1MVVTcLWKMW"
   },
   "source": [
    "## Loading label map\n",
    "Label maps map indices to category names, so that when our convolution network predicts `5`, we know that this corresponds to `airplane`.  Here we use internal utility functions, but anything that returns a dictionary mapping integers to appropriate string labels would be fine"
   ]
  },
  {
   "cell_type": "code",
   "execution_count": 7,
   "metadata": {
    "colab": {
     "autoexec": {
      "startup": false,
      "wait_interval": 0.0
     }
    },
    "colab_type": "code",
    "id": "hDbpHkiWWKMX"
   },
   "outputs": [],
   "source": [
    "label_map = label_map_util.load_labelmap(PATH_TO_LABELS)\n",
    "categories = label_map_util.convert_label_map_to_categories(label_map, max_num_classes=NUM_CLASSES, use_display_name=True)\n",
    "category_index = label_map_util.create_category_index(categories)"
   ]
  },
  {
   "cell_type": "markdown",
   "metadata": {
    "colab_type": "text",
    "id": "EFsoUHvbWKMZ"
   },
   "source": [
    "## Helper code"
   ]
  },
  {
   "cell_type": "code",
   "execution_count": 8,
   "metadata": {
    "colab": {
     "autoexec": {
      "startup": false,
      "wait_interval": 0.0
     }
    },
    "colab_type": "code",
    "id": "aSlYc3JkWKMa"
   },
   "outputs": [],
   "source": [
    "def load_image_into_numpy_array(image):\n",
    "  (im_width, im_height) = image.size\n",
    "  return np.array(image.getdata()).reshape(\n",
    "      (im_height, im_width, 3)).astype(np.uint8)"
   ]
  },
  {
   "cell_type": "markdown",
   "metadata": {
    "colab_type": "text",
    "id": "H0_1AGhrWKMc"
   },
   "source": [
    "# Detection"
   ]
  },
  {
   "cell_type": "code",
   "execution_count": 9,
   "metadata": {
    "colab": {
     "autoexec": {
      "startup": false,
      "wait_interval": 0.0
     }
    },
    "colab_type": "code",
    "id": "jG-zn5ykWKMd",
    "scrolled": true
   },
   "outputs": [
    {
     "name": "stdout",
     "output_type": "stream",
     "text": [
      "frame1166.jpg\n",
      "frame1167.jpg\n",
      "frame1168.jpg\n",
      "frame1169.jpg\n",
      "frame117.jpg\n",
      "frame1170.jpg\n",
      "frame1172.jpg\n",
      "frame1173.jpg\n",
      "frame1174.jpg\n",
      "frame1175.jpg\n",
      "frame1176.jpg\n",
      "frame1177.jpg\n",
      "frame1178.jpg\n",
      "frame1179.jpg\n",
      "frame118.jpg\n",
      "frame1180.jpg\n",
      "frame1181.jpg\n",
      "frame1182.jpg\n",
      "frame1183.jpg\n",
      "frame1184.jpg\n",
      "frame1185.jpg\n",
      "frame1186.jpg\n",
      "frame1187.jpg\n",
      "frame1188.jpg\n",
      "frame1189.jpg\n",
      "frame119.jpg\n",
      "frame1190.jpg\n",
      "frame1191.jpg\n",
      "frame1192.jpg\n",
      "frame1193.jpg\n",
      "frame1194.jpg\n",
      "frame1195.jpg\n",
      "frame1196.jpg\n",
      "frame1197.jpg\n",
      "frame1198.jpg\n",
      "frame1199.jpg\n",
      "frame12.jpg\n",
      "frame120.jpg\n",
      "frame1200.jpg\n",
      "frame1201.jpg\n",
      "frame1202.jpg\n",
      "frame1203.jpg\n",
      "frame1204.jpg\n",
      "frame1205.jpg\n",
      "frame1206.jpg\n",
      "frame1207.jpg\n",
      "frame1209.jpg\n",
      "frame121.jpg\n",
      "frame1301.jpg\n",
      "frame1302.jpg\n",
      "frame1303.jpg\n",
      "frame1304.jpg\n",
      "frame1305.jpg\n",
      "frame1306.jpg\n",
      "frame1307.jpg\n",
      "frame1308.jpg\n",
      "frame1309.jpg\n",
      "frame131.jpg\n",
      "frame1310.jpg\n",
      "frame1311.jpg\n",
      "frame1312.jpg\n",
      "frame1313.jpg\n",
      "frame1314.jpg\n",
      "frame1315.jpg\n",
      "frame1316.jpg\n",
      "frame1317.jpg\n",
      "frame1318.jpg\n",
      "frame1319.jpg\n",
      "frame132.jpg\n",
      "frame1320.jpg\n",
      "['C:\\\\mgr\\\\drive-download-20180905T195237Z-001\\\\DSCN9955-testFrames\\\\frame1166.jpg', 'C:\\\\mgr\\\\drive-download-20180905T195237Z-001\\\\DSCN9955-testFrames\\\\frame1167.jpg', 'C:\\\\mgr\\\\drive-download-20180905T195237Z-001\\\\DSCN9955-testFrames\\\\frame1168.jpg', 'C:\\\\mgr\\\\drive-download-20180905T195237Z-001\\\\DSCN9955-testFrames\\\\frame1169.jpg', 'C:\\\\mgr\\\\drive-download-20180905T195237Z-001\\\\DSCN9955-testFrames\\\\frame117.jpg', 'C:\\\\mgr\\\\drive-download-20180905T195237Z-001\\\\DSCN9955-testFrames\\\\frame1170.jpg', 'C:\\\\mgr\\\\drive-download-20180905T195237Z-001\\\\DSCN9955-testFrames\\\\frame1172.jpg', 'C:\\\\mgr\\\\drive-download-20180905T195237Z-001\\\\DSCN9955-testFrames\\\\frame1173.jpg', 'C:\\\\mgr\\\\drive-download-20180905T195237Z-001\\\\DSCN9955-testFrames\\\\frame1174.jpg', 'C:\\\\mgr\\\\drive-download-20180905T195237Z-001\\\\DSCN9955-testFrames\\\\frame1175.jpg', 'C:\\\\mgr\\\\drive-download-20180905T195237Z-001\\\\DSCN9955-testFrames\\\\frame1176.jpg', 'C:\\\\mgr\\\\drive-download-20180905T195237Z-001\\\\DSCN9955-testFrames\\\\frame1177.jpg', 'C:\\\\mgr\\\\drive-download-20180905T195237Z-001\\\\DSCN9955-testFrames\\\\frame1178.jpg', 'C:\\\\mgr\\\\drive-download-20180905T195237Z-001\\\\DSCN9955-testFrames\\\\frame1179.jpg', 'C:\\\\mgr\\\\drive-download-20180905T195237Z-001\\\\DSCN9955-testFrames\\\\frame118.jpg', 'C:\\\\mgr\\\\drive-download-20180905T195237Z-001\\\\DSCN9955-testFrames\\\\frame1180.jpg', 'C:\\\\mgr\\\\drive-download-20180905T195237Z-001\\\\DSCN9955-testFrames\\\\frame1181.jpg', 'C:\\\\mgr\\\\drive-download-20180905T195237Z-001\\\\DSCN9955-testFrames\\\\frame1182.jpg', 'C:\\\\mgr\\\\drive-download-20180905T195237Z-001\\\\DSCN9955-testFrames\\\\frame1183.jpg', 'C:\\\\mgr\\\\drive-download-20180905T195237Z-001\\\\DSCN9955-testFrames\\\\frame1184.jpg', 'C:\\\\mgr\\\\drive-download-20180905T195237Z-001\\\\DSCN9955-testFrames\\\\frame1185.jpg', 'C:\\\\mgr\\\\drive-download-20180905T195237Z-001\\\\DSCN9955-testFrames\\\\frame1186.jpg', 'C:\\\\mgr\\\\drive-download-20180905T195237Z-001\\\\DSCN9955-testFrames\\\\frame1187.jpg', 'C:\\\\mgr\\\\drive-download-20180905T195237Z-001\\\\DSCN9955-testFrames\\\\frame1188.jpg', 'C:\\\\mgr\\\\drive-download-20180905T195237Z-001\\\\DSCN9955-testFrames\\\\frame1189.jpg', 'C:\\\\mgr\\\\drive-download-20180905T195237Z-001\\\\DSCN9955-testFrames\\\\frame119.jpg', 'C:\\\\mgr\\\\drive-download-20180905T195237Z-001\\\\DSCN9955-testFrames\\\\frame1190.jpg', 'C:\\\\mgr\\\\drive-download-20180905T195237Z-001\\\\DSCN9955-testFrames\\\\frame1191.jpg', 'C:\\\\mgr\\\\drive-download-20180905T195237Z-001\\\\DSCN9955-testFrames\\\\frame1192.jpg', 'C:\\\\mgr\\\\drive-download-20180905T195237Z-001\\\\DSCN9955-testFrames\\\\frame1193.jpg', 'C:\\\\mgr\\\\drive-download-20180905T195237Z-001\\\\DSCN9955-testFrames\\\\frame1194.jpg', 'C:\\\\mgr\\\\drive-download-20180905T195237Z-001\\\\DSCN9955-testFrames\\\\frame1195.jpg', 'C:\\\\mgr\\\\drive-download-20180905T195237Z-001\\\\DSCN9955-testFrames\\\\frame1196.jpg', 'C:\\\\mgr\\\\drive-download-20180905T195237Z-001\\\\DSCN9955-testFrames\\\\frame1197.jpg', 'C:\\\\mgr\\\\drive-download-20180905T195237Z-001\\\\DSCN9955-testFrames\\\\frame1198.jpg', 'C:\\\\mgr\\\\drive-download-20180905T195237Z-001\\\\DSCN9955-testFrames\\\\frame1199.jpg', 'C:\\\\mgr\\\\drive-download-20180905T195237Z-001\\\\DSCN9955-testFrames\\\\frame12.jpg', 'C:\\\\mgr\\\\drive-download-20180905T195237Z-001\\\\DSCN9955-testFrames\\\\frame120.jpg', 'C:\\\\mgr\\\\drive-download-20180905T195237Z-001\\\\DSCN9955-testFrames\\\\frame1200.jpg', 'C:\\\\mgr\\\\drive-download-20180905T195237Z-001\\\\DSCN9955-testFrames\\\\frame1201.jpg', 'C:\\\\mgr\\\\drive-download-20180905T195237Z-001\\\\DSCN9955-testFrames\\\\frame1202.jpg', 'C:\\\\mgr\\\\drive-download-20180905T195237Z-001\\\\DSCN9955-testFrames\\\\frame1203.jpg', 'C:\\\\mgr\\\\drive-download-20180905T195237Z-001\\\\DSCN9955-testFrames\\\\frame1204.jpg', 'C:\\\\mgr\\\\drive-download-20180905T195237Z-001\\\\DSCN9955-testFrames\\\\frame1205.jpg', 'C:\\\\mgr\\\\drive-download-20180905T195237Z-001\\\\DSCN9955-testFrames\\\\frame1206.jpg', 'C:\\\\mgr\\\\drive-download-20180905T195237Z-001\\\\DSCN9955-testFrames\\\\frame1207.jpg', 'C:\\\\mgr\\\\drive-download-20180905T195237Z-001\\\\DSCN9955-testFrames\\\\frame1209.jpg', 'C:\\\\mgr\\\\drive-download-20180905T195237Z-001\\\\DSCN9955-testFrames\\\\frame121.jpg', 'C:\\\\mgr\\\\drive-download-20180905T195237Z-001\\\\DSCN9955-testFrames\\\\frame1301.jpg', 'C:\\\\mgr\\\\drive-download-20180905T195237Z-001\\\\DSCN9955-testFrames\\\\frame1302.jpg', 'C:\\\\mgr\\\\drive-download-20180905T195237Z-001\\\\DSCN9955-testFrames\\\\frame1303.jpg', 'C:\\\\mgr\\\\drive-download-20180905T195237Z-001\\\\DSCN9955-testFrames\\\\frame1304.jpg', 'C:\\\\mgr\\\\drive-download-20180905T195237Z-001\\\\DSCN9955-testFrames\\\\frame1305.jpg', 'C:\\\\mgr\\\\drive-download-20180905T195237Z-001\\\\DSCN9955-testFrames\\\\frame1306.jpg', 'C:\\\\mgr\\\\drive-download-20180905T195237Z-001\\\\DSCN9955-testFrames\\\\frame1307.jpg', 'C:\\\\mgr\\\\drive-download-20180905T195237Z-001\\\\DSCN9955-testFrames\\\\frame1308.jpg', 'C:\\\\mgr\\\\drive-download-20180905T195237Z-001\\\\DSCN9955-testFrames\\\\frame1309.jpg', 'C:\\\\mgr\\\\drive-download-20180905T195237Z-001\\\\DSCN9955-testFrames\\\\frame131.jpg', 'C:\\\\mgr\\\\drive-download-20180905T195237Z-001\\\\DSCN9955-testFrames\\\\frame1310.jpg', 'C:\\\\mgr\\\\drive-download-20180905T195237Z-001\\\\DSCN9955-testFrames\\\\frame1311.jpg', 'C:\\\\mgr\\\\drive-download-20180905T195237Z-001\\\\DSCN9955-testFrames\\\\frame1312.jpg', 'C:\\\\mgr\\\\drive-download-20180905T195237Z-001\\\\DSCN9955-testFrames\\\\frame1313.jpg', 'C:\\\\mgr\\\\drive-download-20180905T195237Z-001\\\\DSCN9955-testFrames\\\\frame1314.jpg', 'C:\\\\mgr\\\\drive-download-20180905T195237Z-001\\\\DSCN9955-testFrames\\\\frame1315.jpg', 'C:\\\\mgr\\\\drive-download-20180905T195237Z-001\\\\DSCN9955-testFrames\\\\frame1316.jpg', 'C:\\\\mgr\\\\drive-download-20180905T195237Z-001\\\\DSCN9955-testFrames\\\\frame1317.jpg', 'C:\\\\mgr\\\\drive-download-20180905T195237Z-001\\\\DSCN9955-testFrames\\\\frame1318.jpg', 'C:\\\\mgr\\\\drive-download-20180905T195237Z-001\\\\DSCN9955-testFrames\\\\frame1319.jpg', 'C:\\\\mgr\\\\drive-download-20180905T195237Z-001\\\\DSCN9955-testFrames\\\\frame132.jpg', 'C:\\\\mgr\\\\drive-download-20180905T195237Z-001\\\\DSCN9955-testFrames\\\\frame1320.jpg']\n"
     ]
    }
   ],
   "source": [
    "# For the sake of simplicity we will use only 2 images:\n",
    "# image1.jpg\n",
    "# image2.jpg\n",
    "# If you want to test the code with your images, just add path to the images to the TEST_IMAGE_PATHS.\n",
    "PATH_TO_TEST_IMAGES_DIR = 'C:\\\\mgr\\\\drive-download-20180905T195237Z-001\\\\DSCN9955-testFrames'\n",
    "IMAGE_PATHS = []\n",
    "for root, dirs, files in os.walk(PATH_TO_TEST_IMAGES_DIR):  \n",
    "    for filename in files:\n",
    "        if str(filename).__contains__('.jpg'):\n",
    "            IMAGE_PATHS.append(filename)\n",
    "            print(filename)\n",
    "TEST_IMAGE_PATHS = [ os.path.join(PATH_TO_TEST_IMAGES_DIR, i) for i in IMAGE_PATHS ]\n",
    "print(TEST_IMAGE_PATHS)\n",
    "\n",
    "# Size, in inches, of the output images.\n",
    "IMAGE_SIZE = (12, 8)"
   ]
  },
  {
   "cell_type": "code",
   "execution_count": 10,
   "metadata": {
    "colab": {
     "autoexec": {
      "startup": false,
      "wait_interval": 0.0
     }
    },
    "colab_type": "code",
    "id": "92BHxzcNWKMf"
   },
   "outputs": [],
   "source": [
    "def run_inference_for_single_image(image, graph):\n",
    "  with graph.as_default():\n",
    "    with tf.Session() as sess:\n",
    "      # Get handles to input and output tensors\n",
    "      ops = tf.get_default_graph().get_operations()\n",
    "      all_tensor_names = {output.name for op in ops for output in op.outputs}\n",
    "      tensor_dict = {}\n",
    "      for key in [\n",
    "          'num_detections', 'detection_boxes', 'detection_scores',\n",
    "          'detection_classes', 'detection_masks'\n",
    "      ]:\n",
    "        tensor_name = key + ':0'\n",
    "        if tensor_name in all_tensor_names:\n",
    "          tensor_dict[key] = tf.get_default_graph().get_tensor_by_name(\n",
    "              tensor_name)\n",
    "      if 'detection_masks' in tensor_dict:\n",
    "        # The following processing is only for single image\n",
    "        detection_boxes = tf.squeeze(tensor_dict['detection_boxes'], [0])\n",
    "        detection_masks = tf.squeeze(tensor_dict['detection_masks'], [0])\n",
    "        # Reframe is required to translate mask from box coordinates to image coordinates and fit the image size.\n",
    "        real_num_detection = tf.cast(tensor_dict['num_detections'][0], tf.int32)\n",
    "        detection_boxes = tf.slice(detection_boxes, [0, 0], [real_num_detection, -1])\n",
    "        detection_masks = tf.slice(detection_masks, [0, 0, 0], [real_num_detection, -1, -1])\n",
    "        detection_masks_reframed = utils_ops.reframe_box_masks_to_image_masks(\n",
    "            detection_masks, detection_boxes, image.shape[0], image.shape[1])\n",
    "        detection_masks_reframed = tf.cast(\n",
    "            tf.greater(detection_masks_reframed, 0.5), tf.uint8)\n",
    "        # Follow the convention by adding back the batch dimension\n",
    "        tensor_dict['detection_masks'] = tf.expand_dims(\n",
    "            detection_masks_reframed, 0)\n",
    "      image_tensor = tf.get_default_graph().get_tensor_by_name('image_tensor:0')\n",
    "\n",
    "      # Run inference\n",
    "      output_dict = sess.run(tensor_dict,\n",
    "                             feed_dict={image_tensor: np.expand_dims(image, 0)})\n",
    "\n",
    "      # all outputs are float32 numpy arrays, so convert types as appropriate\n",
    "      output_dict['num_detections'] = int(output_dict['num_detections'][0])\n",
    "      output_dict['detection_classes'] = output_dict[\n",
    "          'detection_classes'][0].astype(np.uint8)\n",
    "      output_dict['detection_boxes'] = output_dict['detection_boxes'][0]\n",
    "      output_dict['detection_scores'] = output_dict['detection_scores'][0]\n",
    "      if 'detection_masks' in output_dict:\n",
    "        output_dict['detection_masks'] = output_dict['detection_masks'][0]\n",
    "  return output_dict"
   ]
  },
  {
   "cell_type": "code",
   "execution_count": 11,
   "metadata": {},
   "outputs": [],
   "source": [
    "def transformOutputToEvaluateFormat(output_dict, image):\n",
    "    im_width, im_height = image.size\n",
    "    num_detections = int(output_dict['num_detections'])\n",
    "    detection_boxes = output_dict['detection_boxes']\n",
    "    detection_scores = output_dict['detection_scores']\n",
    "    detection_classes =   output_dict['detection_classes']\n",
    "    \n",
    "    classString = 'bee'\n",
    "    objectLines = []\n",
    "    \n",
    "    for i in range(0, num_detections):\n",
    "        ymin=detection_boxes[i][0]\n",
    "        xmin=detection_boxes[i][1]\n",
    "        ymax=detection_boxes[i][2]\n",
    "        xmax=detection_boxes[i][3]\n",
    "         #ymin, xmin, ymax, xmax = box\n",
    "#         (left, right, top, bottom) = (int(xmin * im_width), int(xmax * im_width), int(ymin * im_height), int(ymax * im_height))\n",
    "#         print('absolute coordinates (left, top, right, bottom): ', left, top, right, bottom)\n",
    "#         single_row = (classString, detection_scores[i],  left, top, right, bottom)\n",
    "        single_row = (classString, detection_scores[i],  xmin, ymin, xmax, ymax)\n",
    "        objectLines.append(single_row)\n",
    "#         print(single_row)\n",
    "    print(objectLines)\n",
    "    return objectLines\n",
    "    "
   ]
  },
  {
   "cell_type": "code",
   "execution_count": 12,
   "metadata": {},
   "outputs": [],
   "source": [
    "def saveDetectionToFolder(image_path ,linesArray, savepath):\n",
    "    f = open( os.path.join(savepath, os.path.splitext(os.path.basename(image_path))[0] + \".txt\"),\"w+\")\n",
    "    for i in linesArray:\n",
    "        f.write(' '.join(str(x) for x in i) + '\\n')\n",
    "    "
   ]
  },
  {
   "cell_type": "code",
   "execution_count": 13,
   "metadata": {},
   "outputs": [],
   "source": [
    "DETECTIONS_PATH='.//detections//'"
   ]
  },
  {
   "cell_type": "code",
   "execution_count": null,
   "metadata": {
    "colab": {
     "autoexec": {
      "startup": false,
      "wait_interval": 0.0
     }
    },
    "colab_type": "code",
    "id": "3a5wMHN8WKMh",
    "scrolled": false
   },
   "outputs": [
    {
     "name": "stdout",
     "output_type": "stream",
     "text": [
      "frame1166.txt\n",
      "[('bee', 0.9992894, 0.55922014, 0.7963183, 0.62612265, 0.88366306), ('bee', 0.99922955, 0.348271, 0.7706812, 0.43565428, 0.87656695)]\n",
      "========================\n",
      "frame1167.txt\n",
      "[('bee', 0.99938536, 0.34793586, 0.7713623, 0.43603438, 0.87582135), ('bee', 0.9983164, 0.56268895, 0.79493976, 0.61747754, 0.88755447), ('bee', 0.99628747, 0.3769603, 0.11271238, 0.4982473, 0.2950259), ('bee', 0.6495886, 0.9327944, 0.44922093, 1.0, 0.6569918)]\n",
      "========================\n",
      "frame1168.txt\n",
      "[('bee', 0.99937195, 0.34703234, 0.7703487, 0.4343907, 0.8789169), ('bee', 0.99837166, 0.3747895, 0.11205508, 0.4791763, 0.25792667), ('bee', 0.9982254, 0.55795294, 0.796621, 0.6149855, 0.88604134), ('bee', 0.9309409, 0.3419373, 0.024077237, 0.4442129, 0.12746817), ('bee', 0.7388126, 0.6640208, 0.76760507, 0.7597867, 0.8874054), ('bee', 0.5316118, 0.9298314, 0.5416824, 0.99983096, 0.7062297)]\n",
      "========================\n",
      "frame1169.txt\n",
      "[('bee', 0.99802196, 0.34988427, 0.76697576, 0.41708803, 0.8845258), ('bee', 0.99714524, 0.5552981, 0.79706573, 0.61267185, 0.884158), ('bee', 0.99682754, 0.3642699, 0.084995605, 0.4732175, 0.25560445), ('bee', 0.42950407, 0.66762155, 0.77479494, 0.7710952, 0.88943547)]\n",
      "========================\n",
      "frame117.txt\n",
      "[('bee', 0.99961746, 0.79733825, 0.7582622, 0.8586569, 0.89355534), ('bee', 0.9985568, 0.62758243, 0.6701048, 0.73117316, 0.8841422), ('bee', 0.8420281, 0.44275904, 0.014000509, 0.48764235, 0.18740728), ('bee', 0.39687002, 0.9356924, 0.0, 1.0, 0.12639184)]\n",
      "========================\n",
      "frame1170.txt\n",
      "[('bee', 0.997938, 0.35716847, 0.06776344, 0.4634048, 0.2560448), ('bee', 0.9833921, 0.5543182, 0.8046176, 0.6160064, 0.8820388), ('bee', 0.98149955, 0.3449746, 0.7699876, 0.41911885, 0.8860605), ('bee', 0.9641156, 0.67401767, 0.7630314, 0.770596, 0.88494724)]\n",
      "========================\n",
      "frame1172.txt\n",
      "[('bee', 0.9947412, 0.55689174, 0.78328276, 0.6157997, 0.88895714), ('bee', 0.99233186, 0.355831, 0.053836558, 0.4593446, 0.23458524), ('bee', 0.7959812, 0.3429996, 0.7717172, 0.41792497, 0.8842261), ('bee', 0.6238589, 0.6722982, 0.7782939, 0.7693759, 0.8857054)]\n",
      "========================\n",
      "frame1173.txt\n",
      "[('bee', 0.9981598, 0.554924, 0.774289, 0.6175773, 0.8882191), ('bee', 0.9952459, 0.3618427, 0.04351877, 0.4575305, 0.2298566), ('bee', 0.8138424, 0.33723652, 0.76602334, 0.4243722, 0.88597804), ('bee', 0.5134637, 0.64461106, 0.8111308, 0.69783026, 0.88354856), ('bee', 0.3407, 0.682878, 0.7765637, 0.7685869, 0.88436884)]\n",
      "========================\n",
      "frame1174.txt\n",
      "[('bee', 0.99823594, 0.55107766, 0.7711902, 0.624193, 0.8914596), ('bee', 0.9936765, 0.33659345, 0.7608264, 0.4194994, 0.8866156), ('bee', 0.9882632, 0.3643829, 0.032642357, 0.45340154, 0.22455978), ('bee', 0.78037393, 0.68269724, 0.77074355, 0.7750822, 0.8838299)]\n",
      "========================\n",
      "frame1175.txt\n",
      "[('bee', 0.99922204, 0.563579, 0.7701859, 0.6216689, 0.890757), ('bee', 0.99286157, 0.33534902, 0.76212996, 0.41951197, 0.8887756), ('bee', 0.99200165, 0.37111562, 0.02301905, 0.45280766, 0.23150185), ('bee', 0.9894236, 0.64070415, 0.804491, 0.69404113, 0.88796693), ('bee', 0.9610745, 0.6886812, 0.763205, 0.7827173, 0.8795767)]\n",
      "========================\n",
      "frame1176.txt\n",
      "[('bee', 0.9971482, 0.5670753, 0.75939405, 0.6259585, 0.88889056), ('bee', 0.9966833, 0.37185445, 0.03249819, 0.45607808, 0.23172088), ('bee', 0.97793067, 0.689248, 0.7680718, 0.7868733, 0.8870323), ('bee', 0.9754431, 0.33535376, 0.76318157, 0.41505644, 0.88963777), ('bee', 0.9720346, 0.6440047, 0.8201241, 0.69070387, 0.8832343)]\n",
      "========================\n",
      "frame1177.txt\n",
      "[('bee', 0.9972697, 0.37298906, 0.041446228, 0.4639935, 0.22483161), ('bee', 0.99617153, 0.5751666, 0.75321895, 0.6337005, 0.88589776), ('bee', 0.9903397, 0.64472234, 0.80389065, 0.6917846, 0.8885506), ('bee', 0.97359663, 0.6927055, 0.7683019, 0.78731096, 0.8875306)]\n",
      "========================\n",
      "frame1178.txt\n",
      "[('bee', 0.99744225, 0.5828603, 0.7466173, 0.6438183, 0.8823788), ('bee', 0.98932505, 0.36601323, 0.05847587, 0.46915472, 0.2194359), ('bee', 0.918953, 0.6913663, 0.7692746, 0.7845886, 0.8862468), ('bee', 0.8164333, 0.3246237, 0.75729454, 0.41357994, 0.8807532), ('bee', 0.41744766, 0.14499271, 0.004883548, 0.2101992, 0.09936907)]\n",
      "========================\n",
      "frame1179.txt\n",
      "[('bee', 0.9977451, 0.5817037, 0.7306245, 0.64882666, 0.8846696), ('bee', 0.99772626, 0.37116012, 0.049672645, 0.470507, 0.22144578), ('bee', 0.9258697, 0.6931424, 0.7717358, 0.7807783, 0.8852653), ('bee', 0.8647639, 0.3269968, 0.75382656, 0.40992987, 0.8857757), ('bee', 0.7264992, 0.14596641, 0.0056346525, 0.23087794, 0.12510581)]\n",
      "========================\n",
      "frame118.txt\n",
      "[('bee', 0.99910235, 0.6249275, 0.65598756, 0.7246175, 0.870731), ('bee', 0.9985941, 0.787269, 0.7476738, 0.85580707, 0.8861821), ('bee', 0.82249, 0.92193586, 0.044438507, 0.9960057, 0.24353488)]\n",
      "========================\n",
      "frame1180.txt\n",
      "[('bee', 0.9981578, 0.5862766, 0.73795754, 0.65105814, 0.89199626), ('bee', 0.9975745, 0.37419987, 0.05737366, 0.48250765, 0.22802313), ('bee', 0.98662925, 0.70182675, 0.7715154, 0.7862553, 0.879625), ('bee', 0.75566536, 0.3222583, 0.76403123, 0.41799372, 0.886039), ('bee', 0.69861627, 0.16565417, 0.003930761, 0.25495887, 0.11472607)]\n",
      "========================\n",
      "frame1181.txt\n",
      "[('bee', 0.9957926, 0.5866919, 0.74390006, 0.6633403, 0.8838151), ('bee', 0.9951083, 0.37466946, 0.057579108, 0.47848, 0.22376272), ('bee', 0.99465215, 0.709219, 0.77542096, 0.7865151, 0.8762748), ('bee', 0.9574984, 0.31876662, 0.7636464, 0.4154378, 0.8841564)]\n",
      "========================\n",
      "frame1182.txt\n",
      "[('bee', 0.9946384, 0.38126504, 0.07072822, 0.48848027, 0.21516289), ('bee', 0.9916191, 0.59724534, 0.7426499, 0.67054605, 0.8882378), ('bee', 0.9915091, 0.71644366, 0.77534676, 0.78359485, 0.88014835), ('bee', 0.9418113, 0.31894022, 0.7636299, 0.41864133, 0.8830666), ('bee', 0.50685567, 0.6613297, 0.7744761, 0.715426, 0.8946319)]\n",
      "========================\n",
      "frame1183.txt\n",
      "[('bee', 0.9915937, 0.38645655, 0.0752535, 0.49173325, 0.23464008), ('bee', 0.99006045, 0.6572206, 0.7710987, 0.71311283, 0.8938249), ('bee', 0.98008186, 0.6021396, 0.74298286, 0.66944087, 0.89052105), ('bee', 0.76963633, 0.7275864, 0.7876289, 0.7836311, 0.8754595), ('bee', 0.7041633, 0.3120552, 0.7687971, 0.41887495, 0.8890697)]\n",
      "========================\n",
      "frame1184.txt\n",
      "[('bee', 0.9982774, 0.39194143, 0.0773985, 0.4906333, 0.24540573), ('bee', 0.9909541, 0.60287565, 0.7380327, 0.6736856, 0.8837545), ('bee', 0.9783997, 0.6602494, 0.7706257, 0.7168574, 0.8941517), ('bee', 0.94108695, 0.31686166, 0.767425, 0.42468825, 0.88862824), ('bee', 0.63668275, 0.72877246, 0.792157, 0.780979, 0.88009727)]\n",
      "========================\n",
      "frame1185.txt\n",
      "[('bee', 0.9945468, 0.3912671, 0.083578415, 0.49105343, 0.24583997), ('bee', 0.9839833, 0.6070592, 0.724719, 0.68064326, 0.8751904), ('bee', 0.9184111, 0.31589156, 0.7681913, 0.42469108, 0.8898295), ('bee', 0.8326155, 0.54453933, 0.7681168, 0.6043483, 0.88512576), ('bee', 0.42387065, 0.66186726, 0.75800467, 0.7185589, 0.8874474)]\n",
      "========================\n"
     ]
    },
    {
     "name": "stderr",
     "output_type": "stream",
     "text": [
      "c:\\users\\daniel żukowski\\appdata\\local\\programs\\python\\python36\\lib\\site-packages\\matplotlib\\pyplot.py:537: RuntimeWarning: More than 20 figures have been opened. Figures created through the pyplot interface (`matplotlib.pyplot.figure`) are retained until explicitly closed and may consume too much memory. (To control this warning, see the rcParam `figure.max_open_warning`).\n",
      "  max_open_warning, RuntimeWarning)\n"
     ]
    },
    {
     "name": "stdout",
     "output_type": "stream",
     "text": [
      "frame1186.txt\n",
      "[('bee', 0.9976259, 0.39508426, 0.083009385, 0.4963714, 0.26614743), ('bee', 0.9895711, 0.60453534, 0.7323319, 0.6781039, 0.8782398), ('bee', 0.95545834, 0.3195587, 0.7678901, 0.42214867, 0.8923432), ('bee', 0.86290187, 0.5270212, 0.5844653, 0.5824874, 0.7230944), ('bee', 0.8432588, 0.65910023, 0.7529002, 0.7237838, 0.8952412)]\n",
      "========================\n",
      "frame1187.txt\n",
      "[('bee', 0.9987404, 0.40040904, 0.09665916, 0.49523312, 0.27857316), ('bee', 0.9889682, 0.6050127, 0.73142976, 0.6745587, 0.8786471), ('bee', 0.9502644, 0.31733438, 0.7667819, 0.427308, 0.89017093), ('bee', 0.84966624, 0.65841526, 0.74891484, 0.73001105, 0.88730556)]\n",
      "========================\n",
      "frame1188.txt\n",
      "[('bee', 0.9987093, 0.40073082, 0.13267033, 0.49478552, 0.30191332), ('bee', 0.9900019, 0.3187861, 0.77047175, 0.42660192, 0.88800424), ('bee', 0.977653, 0.60629624, 0.7326242, 0.67496973, 0.8723136), ('bee', 0.9733236, 0.6584785, 0.75590146, 0.7305651, 0.885872)]\n",
      "========================\n",
      "frame1189.txt\n",
      "[('bee', 0.99878424, 0.40077603, 0.1350619, 0.49931926, 0.3108797), ('bee', 0.99556327, 0.6060158, 0.7235735, 0.6770303, 0.88235193), ('bee', 0.99023217, 0.65558475, 0.75985014, 0.72628444, 0.88159674), ('bee', 0.9522737, 0.31636828, 0.7686424, 0.42444128, 0.89080834)]\n",
      "========================\n",
      "frame119.txt\n",
      "[('bee', 0.99945384, 0.6220331, 0.64114845, 0.7206756, 0.8535628), ('bee', 0.99910516, 0.7808966, 0.7356997, 0.8577792, 0.88578475), ('bee', 0.8117412, 0.9125905, 0.15224417, 0.9993366, 0.342343)]\n",
      "========================\n",
      "frame1190.txt\n",
      "[('bee', 0.9981073, 0.6071794, 0.7116977, 0.68119025, 0.88404423), ('bee', 0.99620205, 0.4037195, 0.14350708, 0.50005865, 0.32698336), ('bee', 0.9359076, 0.6479556, 0.71806693, 0.7238154, 0.8806367), ('bee', 0.594691, 0.3147168, 0.77005196, 0.4218708, 0.88849175)]\n",
      "========================\n",
      "frame1191.txt\n",
      "[('bee', 0.99816483, 0.40759742, 0.17779018, 0.4987517, 0.35435566), ('bee', 0.9911839, 0.6380464, 0.60640657, 0.70205104, 0.7940334), ('bee', 0.98431903, 0.60294837, 0.71651256, 0.6821111, 0.88024616), ('bee', 0.9385085, 0.31528905, 0.7701003, 0.42213038, 0.8885096)]\n",
      "========================\n",
      "frame1192.txt\n",
      "[('bee', 0.99938214, 0.6058157, 0.69745004, 0.6867495, 0.8811751), ('bee', 0.9977143, 0.628925, 0.44357893, 0.67487365, 0.6292681), ('bee', 0.9975442, 0.4062706, 0.18947779, 0.500891, 0.36275283), ('bee', 0.9864466, 0.31701556, 0.76657516, 0.42483935, 0.8876252)]\n",
      "========================\n",
      "frame1193.txt\n"
     ]
    }
   ],
   "source": [
    "for image_path in TEST_IMAGE_PATHS:\n",
    "  image = Image.open(image_path)\n",
    "  print(os.path.splitext(os.path.basename(image_path))[0] + \".txt\")\n",
    "  # the array based representation of the image will be used later in order to prepare the\n",
    "  # result image with boxes and labels on it.\n",
    "  image_np = load_image_into_numpy_array(image)\n",
    "  # Expand dimensions since the model expects images to have shape: [1, None, None, 3]\n",
    "  image_np_expanded = np.expand_dims(image_np, axis=0)\n",
    "  # Actual detection.\n",
    "  output_dict = run_inference_for_single_image(image_np, detection_graph)\n",
    "  # Visualization of the results of a detection.\n",
    "#   print(tf.metrics.recall( output_dict['detection_classes'],output_dict['detection_boxes']))\n",
    "#   print(output_dict)\n",
    "  detectionsLines = transformOutputToEvaluateFormat(output_dict, image)\n",
    "  saveDetectionToFolder(image_path, detectionsLines, DETECTIONS_PATH)\n",
    "  print(\"========================\")\n",
    "    \n",
    "  vis_util.visualize_boxes_and_labels_on_image_array(\n",
    "      image_np,\n",
    "      output_dict['detection_boxes'],\n",
    "      output_dict['detection_classes'],\n",
    "      output_dict['detection_scores'],\n",
    "      category_index,\n",
    "      instance_masks=output_dict.get('detection_masks'),\n",
    "      use_normalized_coordinates=True,\n",
    "      line_thickness=8)\n",
    "  plt.figure(figsize=IMAGE_SIZE)\n",
    "  plt.imshow(image_np)"
   ]
  },
  {
   "cell_type": "code",
   "execution_count": null,
   "metadata": {
    "colab": {
     "autoexec": {
      "startup": false,
      "wait_interval": 0.0
     }
    },
    "colab_type": "code",
    "id": "LQSEnEsPWKMj"
   },
   "outputs": [],
   "source": []
  }
 ],
 "metadata": {
  "colab": {
   "default_view": {},
   "name": "object_detection_tutorial.ipynb?workspaceId=ronnyvotel:python_inference::citc",
   "provenance": [],
   "version": "0.3.2",
   "views": {}
  },
  "kernelspec": {
   "display_name": "Python 3",
   "language": "python",
   "name": "python3"
  },
  "language_info": {
   "codemirror_mode": {
    "name": "ipython",
    "version": 3
   },
   "file_extension": ".py",
   "mimetype": "text/x-python",
   "name": "python",
   "nbconvert_exporter": "python",
   "pygments_lexer": "ipython3",
   "version": "3.6.6"
  }
 },
 "nbformat": 4,
 "nbformat_minor": 1
}
